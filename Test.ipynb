{
 "cells": [
  {
   "cell_type": "markdown",
   "metadata": {
    "id": "xIL0jeM78tKu"
   },
   "source": [
    "## Student Info\n",
    "\n",
    "* Student name 1:\n",
    "* Student ID 1:\n",
    "\n",
    "* Student name 2:\n",
    "* Student ID 2:"
   ]
  },
  {
   "cell_type": "markdown",
   "metadata": {
    "id": "PPGr3YiG80kb"
   },
   "source": [
    "## Project Info\n",
    "\n",
    "This project aims to get hands-on experience in implementing some Classification and clustering algorithms taught in Data Mining and Applications course.\n",
    "\n",
    "There are 2 exercises in this project:\n",
    "* Binary classification using Decision Tree (ID3 algorithm)\n",
    "* Data clustering with K-means clustering"
   ]
  },
  {
   "cell_type": "markdown",
   "metadata": {
    "id": "1jeSVc1g-xx0"
   },
   "source": [
    "## Instructions\n",
    "\n",
    "### How to finish\n",
    "\n",
    "To finish the project, fill in:\n",
    "- ```YOUR CODE HERE``` in code cells\n",
    "\n",
    "- ```Your answer here``` in text cells.\n",
    "\n",
    "\n",
    "<font color='red'>**NOTE:**</font>\n",
    "\n",
    "- Your project must be finished by your own self. You may discuss with the others, but must not copy (partially or entirely) their codes or solutions. You will receive a <font color='red'>0 point</font> for this project if you violate this plagiarism rule.\n",
    "\n",
    "- You can create new cells to clarify your code / answer, however, please <font color='red'>do not delete any pre-defined code cells or test case cells</font> as it may affect the grading results.\n",
    "\n",
    "- The given test cases (if any) are used to only assist your code debugging / unit testing. Passing these test cases does not necessarily mean you will get the maximum point for the exercise."
   ]
  },
  {
   "cell_type": "markdown",
   "metadata": {
    "id": "SSmFr8aou0R1"
   },
   "source": [
    "### How to submit\n",
    "\n",
    "In the grading stage, I will first select `Kernel` - `Restart Kernel & Run All Cells` to restart and run all cells in your notebook. As a result, before submitting your project, you should run `Kernel` - `Restart Kernel & Run All Cells` to ensure your code will run as you expect.\n",
    "\n",
    "After that, rename your notebook as `ID1_ID2.ipynb` (e.g. `19123_19456.ipynb`) and submit on Moodle.\n",
    "\n",
    "<font color=red>Please follow the above submission guidelines. Any violation of these instructions may cost you some penalty points!!!</font>\n"
   ]
  },
  {
   "cell_type": "markdown",
   "metadata": {
    "id": "3BOp6rdqg5SL"
   },
   "source": [
    "## Exercise 1: Classification (6 points)\n",
    "\n",
    "### Requirements\n",
    "\n",
    "You will need to implement Decision Tree algorithm (ID3) in Python language.\n",
    "\n",
    "**Description**:\n",
    "\n",
    "- In this exercise, you only need to build a decision tree model using categorical attributes (no need to handle numerical attributes). You may transform numerical attributes into categorical before feeding into classification model.\n",
    "\n",
    "- A sample belongs to either one of the given labels (binary classification).\n",
    "\n",
    "- Dataset: [tennis.txt](https://drive.google.com/file/d/1jv67IlMIxGxwGGaP47AZ_1t3mxIn82Y7/view?usp=sharing) and [titanic2.txt](https://drive.google.com/file/d/1IwOxcPz-Hq1_JOOfGylJxy1TYhDvfEsg/view?usp=sharing)\n",
    "\n",
    "\n",
    "You will need to implement `load_data` function and DecisionTree class with the following methods:\n",
    "\n",
    "- ```fit```: build tree from given dataset, using ID3 algorithm\n",
    "\n",
    "- ```predict```: make predictions on new data points using the trained decision tree\n",
    "\n",
    "- ```visualize```: plot trained decision tree from training dataset. You may choose how to visualize the trained model, as long as the tree structure of the model is clarified (you may use available visualization packages such as ```tree``` or ```graphviz```, or implement the visualization code yourself). For example, a simple representation of a decision tree built from [tennis.txt](https://drive.google.com/file/d/1jv67IlMIxGxwGGaP47AZ_1t3mxIn82Y7/view?usp=sharing) dataset may look like:\n",
    "\n",
    "\n",
    "```\n",
    "outlook = sunny\n",
    "|  humidity = high: no\n",
    "|  humidity = normal: yes\n",
    "outlook = overcast: yes\n",
    "outlook = rainy\n",
    "|  windy = TRUE: no\n",
    "|  windy = FALSE: yes\n",
    "```\n",
    "\n",
    "**Note**:\n",
    "\n",
    "- For [tennis.txt](https://drive.google.com/file/d/1jv67IlMIxGxwGGaP47AZ_1t3mxIn82Y7/view?usp=sharing) dataset, you can use all samples for training without spliting into train and test set. For [titanic2.txt](https://drive.google.com/file/d/1IwOxcPz-Hq1_JOOfGylJxy1TYhDvfEsg/view?usp=sharing) dataset, you may need to split into train/test with the ratio of 80/20 (use ```sklearn.model_selection.train_test_split``` with ```random_state=520``` for reproducibility)\n",
    "\n",
    "- ```load_data``` function and ```DecisionTree``` class must be implemented once only and be usable for different datasets\n",
    "\n",
    "- For each dataset, you need to ```load_data``` from input files, ```fit``` train dataset into model, use the trained model to ```predict``` on ```X_train``` and ```X_test``` (if any), calculate accuracy (use ```sklearn.metrics.accuracy_score```), and eventually ```visualize``` trained model"
   ]
  },
  {
   "cell_type": "markdown",
   "metadata": {
    "id": "t8bxZvhd80Kt"
   },
   "source": [
    "### Implementation (6 points)"
   ]
  },
  {
   "cell_type": "code",
   "execution_count": 138,
   "metadata": {
    "id": "zp2i5B0R8m_T"
   },
   "outputs": [],
   "source": [
    "import pandas as pd\n",
    "import numpy as np\n",
    "from numpy import log2 as log\n",
    "import sklearn\n",
    "from sklearn.metrics import accuracy_score\n",
    "from sklearn.model_selection import train_test_split\n",
    "from sklearn.tree import export_graphviz\n",
    "import pydotplus"
   ]
  },
  {
   "cell_type": "code",
   "execution_count": 100,
   "metadata": {
    "id": "cttFBEpc9WUX"
   },
   "outputs": [],
   "source": [
    "def load_data(file_path: str, split: bool = True):\n",
    "    \"\"\"\n",
    "    Load data from file_path and return numpy data\n",
    "\n",
    "    Parameters\n",
    "    ----------\n",
    "    file_path : str\n",
    "        The path of input data file (tab separated).\n",
    "    split : bool\n",
    "        Whether or not to return test set.\n",
    "\n",
    "    Returns\n",
    "    ----------\n",
    "    (X_train, y_train) if split = False, else\n",
    "    (X_train, y_train), (X_test, y_test): training and testing numpy array\n",
    "    \"\"\"\n",
    "    with open(file_path) as f:\n",
    "        lines = f.readlines()\n",
    "\n",
    "    # get feature names from the first row\n",
    "    feature_names = lines[0].strip().split('\\t')[:-1]\n",
    "\n",
    "    # get training data from the second row onwards\n",
    "    data = [line.strip().split('\\t') for line in lines[1:]]\n",
    "    X_train = np.array(data)[:, :-1]\n",
    "    y_train = np.array(data)[:, -1]\n",
    "\n",
    "    # Encode target variable y_train to binary values\n",
    "    y_train = np.array([1 if label == 'yes' else 0 for label in y_train])\n",
    "\n",
    "    # One-hot encode the features\n",
    "    encodings = []\n",
    "    for i in range(X_train.shape[1]):\n",
    "        unique_values = np.unique(X_train[:, i])\n",
    "        encoding = dict(zip(unique_values, range(len(unique_values))))\n",
    "        encodings.append(encoding)\n",
    "        for k, row in enumerate(X_train):\n",
    "            X_train[k][i] = encoding[row[i]]\n",
    "\n",
    "    X_train = X_train.astype(int)\n",
    "    y_train = y_train.astype(int)\n",
    "\n",
    "    # Split into train and test set\n",
    "    if split:\n",
    "        X_train, X_test, y_train, y_test = train_test_split(X_train, y_train, test_size=0.2, random_state=520)\n",
    "        return (X_train, y_train), (X_test, y_test), feature_names\n",
    "    else:\n",
    "        return X_train, y_train, feature_names\n"
   ]
  },
  {
   "cell_type": "code",
   "execution_count": 12,
   "metadata": {},
   "outputs": [],
   "source": [
    "import math\n",
    "def entropy(counts, n_samples):\n",
    "    \"\"\"\n",
    "    Parameters:\n",
    "    -----------\n",
    "    counts: shape (n_classes): list number of samples in each class\n",
    "    n_samples: number of data samples\n",
    "    \n",
    "    -----------\n",
    "    return entropy \n",
    "    \"\"\"\n",
    "    #TODO\n",
    "    entropy = 0\n",
    "    \n",
    "    for c in counts: \n",
    "        entropy +=  - (c*1.0/n_samples)*math.log(c*1.0/n_samples, 2)\n",
    "    \n",
    "    return entropy"
   ]
  },
  {
   "cell_type": "code",
   "execution_count": 13,
   "metadata": {},
   "outputs": [],
   "source": [
    "def entropy_of_one_division(division): \n",
    "    \"\"\"\n",
    "    Returns entropy of a divided group of data\n",
    "    Data may have multiple classes\n",
    "    \"\"\"\n",
    "    n_samples = len(division)\n",
    "    n_classes = set(division)\n",
    "    \n",
    "    counts=[]\n",
    "    #count samples in each class then store it to list counts\n",
    "    #TODO:\n",
    "    for c in n_classes:\n",
    "        counts.append(sum(division==c))\n",
    "    \n",
    "    return entropy(counts,n_samples),n_samples\n"
   ]
  },
  {
   "cell_type": "code",
   "execution_count": 14,
   "metadata": {},
   "outputs": [],
   "source": [
    "def get_entropy(y_predict, y):\n",
    "    \"\"\"\n",
    "    Returns entropy of a split\n",
    "    y_predict is the split decision by cutoff, True/Fasle\n",
    "    \"\"\"\n",
    "    n = len(y)\n",
    "    entropy_true, n_true = entropy_of_one_division(y[y_predict]) # left hand side entropy\n",
    "    entropy_false, n_false = entropy_of_one_division(y[~y_predict]) # right hand side entropy\n",
    "    # overall entropy\n",
    "    #TODO s=?\n",
    "\n",
    "    s = (n_true*1.0/n)*entropy_true + (n_false*1.0/n)*entropy_false\n",
    "    \n",
    "    return s"
   ]
  },
  {
   "cell_type": "code",
   "execution_count": 76,
   "metadata": {
    "id": "oZlGLcBn-wTM"
   },
   "outputs": [],
   "source": [
    "class DecisionTreeClassifier:\n",
    "    def __init__(self, tree=None, depth=0, feature_names=None):\n",
    "        '''Parameters:\n",
    "        -----------------\n",
    "        tree: decision tree\n",
    "        depth: depth of decision tree after training'''\n",
    "        \n",
    "        self.depth = depth\n",
    "        self.tree=tree\n",
    "        self.feature_names=feature_names\n",
    "    def fit(self, X, y, node={}, depth=0):\n",
    "        '''Parameter:\n",
    "        -----------------\n",
    "        X: training data\n",
    "        y: label of training data\n",
    "        ------------------\n",
    "        return: node \n",
    "        \n",
    "        node: each node represented by cutoff value and column index, value and children.\n",
    "         - cutoff value is thresold where you divide your attribute\n",
    "         - column index is your data attribute index\n",
    "         - value of node is mean value of label indexes, \n",
    "           if a node is leaf all data samples will have same label\n",
    "        \n",
    "        Note that: we divide each attribute into 2 part => each node will have 2 children: left, right.\n",
    "        '''\n",
    "        \n",
    "        #Stop conditions\n",
    "        #if all value of y are the same \n",
    "        if np.all(y==y[0]):\n",
    "            return {'val':y[0]}\n",
    "\n",
    "        else: \n",
    "            col_idx, cutoff, entropy = self.find_best_split_of_all(X, y)    # find one split given an information gain \n",
    "            y_left = y[X[:, col_idx] < cutoff]\n",
    "            y_right = y[X[:, col_idx] >= cutoff]\n",
    "            node = {'index_col':col_idx,\n",
    "                        'cutoff':cutoff,\n",
    "                   'val':np.mean(y)}\n",
    "            node['left'] = self.fit(X[X[:, col_idx] < cutoff], y_left, {}, depth+1)\n",
    "            node['right'] = self.fit(X[X[:, col_idx] >= cutoff], y_right, {}, depth+1)\n",
    "            self.depth += 1 \n",
    "            self.tree = node\n",
    "            return node\n",
    "    \n",
    "    def find_best_split_of_all(self, X, y):\n",
    "        col_idx = None\n",
    "        min_entropy = 1\n",
    "        cutoff = None\n",
    "        for i, col_data in enumerate(X.T):\n",
    "            entropy, cur_cutoff = self.find_best_split(col_data, y)\n",
    "            if entropy == 0:                   #best entropy\n",
    "                return i, cur_cutoff, entropy\n",
    "            elif entropy <= min_entropy:\n",
    "                min_entropy = entropy\n",
    "                col_idx = i\n",
    "                cutoff = cur_cutoff\n",
    "               \n",
    "        return col_idx, cutoff, min_entropy\n",
    "    \n",
    "    def find_best_split(self, col_data, y):\n",
    "        ''' Parameters:\n",
    "        -------------\n",
    "        col_data: data samples in column'''\n",
    "         \n",
    "        min_entropy = 10\n",
    "        \n",
    "        for value in set(col_data):\n",
    "            y_predict = col_data < value\n",
    "            my_entropy = get_entropy(y_predict, y)\n",
    "            #TODO\n",
    "            #min entropy=?, cutoff=?\n",
    "            if (min_entropy > my_entropy): \n",
    "                min_entropy = my_entropy \n",
    "                cutoff = value\n",
    "            \n",
    "        return min_entropy, cutoff\n",
    "                                               \n",
    "    def predict(self, X):\n",
    "        tree = self.tree\n",
    "        pred = np.zeros(shape=len(X))\n",
    "        for i, c in enumerate(X):\n",
    "            pred[i] = self._predict(c)\n",
    "        return pred\n",
    "    \n",
    "    def _predict(self, row):\n",
    "        cur_layer = self.tree\n",
    "        while cur_layer.get('cutoff'):\n",
    "            if row[cur_layer['index_col']] < cur_layer['cutoff']:\n",
    "                cur_layer = cur_layer['left']\n",
    "            else:\n",
    "                cur_layer = cur_layer['right']\n",
    "        else:\n",
    "            return cur_layer.get('val')\n",
    "        \n",
    "    def visualize_tree(self):\n",
    "        self.print_tree(self.tree)\n",
    "        \n",
    "    def print_tree(node, depth=0):\n",
    "        if node is None:\n",
    "            return\n",
    "        if node.get('cutoff'):\n",
    "            print(f\"X{node['index_col']} < {node['cutoff']}\")\n",
    "            print_tree(node.get('left'), depth+1)\n",
    "            print_tree(node.get('right'), depth+1)\n",
    "        else:\n",
    "            print(f\"Class: {node['val']}\")\n",
    "\n",
    "        \n",
    "    # previous code...\n",
    " "
   ]
  },
  {
   "cell_type": "code",
   "execution_count": 77,
   "metadata": {
    "id": "_GQ7FhTQ_zQZ"
   },
   "outputs": [
    {
     "name": "stdout",
     "output_type": "stream",
     "text": [
      "[[2 1 0 1]\n",
      " [2 1 0 0]\n",
      " [0 1 0 1]\n",
      " [1 2 0 1]\n",
      " [1 0 1 1]\n",
      " [1 0 1 0]\n",
      " [0 0 1 0]\n",
      " [2 2 0 1]\n",
      " [2 0 1 1]\n",
      " [1 2 1 1]\n",
      " [2 2 1 0]\n",
      " [0 2 0 0]\n",
      " [0 1 1 1]\n",
      " [1 2 0 0]]\n",
      "[0 0 1 1 1 0 1 0 1 1 1 1 1 0]\n",
      "{'index_col': 0, 'cutoff': 1, 'val': 0.6428571428571429, 'left': {'val': 1}, 'right': {'index_col': 2, 'cutoff': 1, 'val': 0.5, 'left': {'index_col': 0, 'cutoff': 2, 'val': 0.2, 'left': {'index_col': 3, 'cutoff': 1, 'val': 0.5, 'left': {'val': 0}, 'right': {'val': 1}}, 'right': {'val': 0}}, 'right': {'index_col': 3, 'cutoff': 1, 'val': 0.8, 'left': {'index_col': 0, 'cutoff': 2, 'val': 0.5, 'left': {'val': 0}, 'right': {'val': 1}}, 'right': {'val': 1}}}}\n",
      "1.0\n"
     ]
    },
    {
     "ename": "AttributeError",
     "evalue": "'DecisionTreeClassifier' object has no attribute 'get'",
     "output_type": "error",
     "traceback": [
      "\u001b[1;31m---------------------------------------------------------------------------\u001b[0m",
      "\u001b[1;31mAttributeError\u001b[0m                            Traceback (most recent call last)",
      "\u001b[1;32mc:\\Users\\Admin\\Desktop\\University\\DataMining\\Lab03\\Test.ipynb Cell 13\u001b[0m in \u001b[0;36m<cell line: 16>\u001b[1;34m()\u001b[0m\n\u001b[0;32m     <a href='vscode-notebook-cell:/c%3A/Users/Admin/Desktop/University/DataMining/Lab03/Test.ipynb#X12sZmlsZQ%3D%3D?line=13'>14</a>\u001b[0m acc_train \u001b[39m=\u001b[39m accuracy_score(y_train, y_hat_train)\n\u001b[0;32m     <a href='vscode-notebook-cell:/c%3A/Users/Admin/Desktop/University/DataMining/Lab03/Test.ipynb#X12sZmlsZQ%3D%3D?line=14'>15</a>\u001b[0m \u001b[39mprint\u001b[39m(acc_train)\n\u001b[1;32m---> <a href='vscode-notebook-cell:/c%3A/Users/Admin/Desktop/University/DataMining/Lab03/Test.ipynb#X12sZmlsZQ%3D%3D?line=15'>16</a>\u001b[0m tree\u001b[39m.\u001b[39;49mvisualize_tree()\n",
      "\u001b[1;32mc:\\Users\\Admin\\Desktop\\University\\DataMining\\Lab03\\Test.ipynb Cell 13\u001b[0m in \u001b[0;36mDecisionTreeClassifier.visualize_tree\u001b[1;34m(self)\u001b[0m\n\u001b[0;32m     <a href='vscode-notebook-cell:/c%3A/Users/Admin/Desktop/University/DataMining/Lab03/Test.ipynb#X12sZmlsZQ%3D%3D?line=95'>96</a>\u001b[0m \u001b[39mdef\u001b[39;00m \u001b[39mvisualize_tree\u001b[39m(\u001b[39mself\u001b[39m):\n\u001b[1;32m---> <a href='vscode-notebook-cell:/c%3A/Users/Admin/Desktop/University/DataMining/Lab03/Test.ipynb#X12sZmlsZQ%3D%3D?line=96'>97</a>\u001b[0m     \u001b[39mself\u001b[39;49m\u001b[39m.\u001b[39;49mprint_tree(\u001b[39mself\u001b[39;49m\u001b[39m.\u001b[39;49mtree)\n",
      "\u001b[1;32mc:\\Users\\Admin\\Desktop\\University\\DataMining\\Lab03\\Test.ipynb Cell 13\u001b[0m in \u001b[0;36mDecisionTreeClassifier.print_tree\u001b[1;34m(node, depth)\u001b[0m\n\u001b[0;32m    <a href='vscode-notebook-cell:/c%3A/Users/Admin/Desktop/University/DataMining/Lab03/Test.ipynb#X12sZmlsZQ%3D%3D?line=99'>100</a>\u001b[0m \u001b[39mif\u001b[39;00m node \u001b[39mis\u001b[39;00m \u001b[39mNone\u001b[39;00m:\n\u001b[0;32m    <a href='vscode-notebook-cell:/c%3A/Users/Admin/Desktop/University/DataMining/Lab03/Test.ipynb#X12sZmlsZQ%3D%3D?line=100'>101</a>\u001b[0m     \u001b[39mreturn\u001b[39;00m\n\u001b[1;32m--> <a href='vscode-notebook-cell:/c%3A/Users/Admin/Desktop/University/DataMining/Lab03/Test.ipynb#X12sZmlsZQ%3D%3D?line=101'>102</a>\u001b[0m \u001b[39mif\u001b[39;00m node\u001b[39m.\u001b[39;49mget(\u001b[39m'\u001b[39m\u001b[39mcutoff\u001b[39m\u001b[39m'\u001b[39m):\n\u001b[0;32m    <a href='vscode-notebook-cell:/c%3A/Users/Admin/Desktop/University/DataMining/Lab03/Test.ipynb#X12sZmlsZQ%3D%3D?line=102'>103</a>\u001b[0m     \u001b[39mprint\u001b[39m(\u001b[39mf\u001b[39m\u001b[39m\"\u001b[39m\u001b[39mX\u001b[39m\u001b[39m{\u001b[39;00mnode[\u001b[39m'\u001b[39m\u001b[39mindex_col\u001b[39m\u001b[39m'\u001b[39m]\u001b[39m}\u001b[39;00m\u001b[39m < \u001b[39m\u001b[39m{\u001b[39;00mnode[\u001b[39m'\u001b[39m\u001b[39mcutoff\u001b[39m\u001b[39m'\u001b[39m]\u001b[39m}\u001b[39;00m\u001b[39m\"\u001b[39m)\n\u001b[0;32m    <a href='vscode-notebook-cell:/c%3A/Users/Admin/Desktop/University/DataMining/Lab03/Test.ipynb#X12sZmlsZQ%3D%3D?line=103'>104</a>\u001b[0m     print_tree(node\u001b[39m.\u001b[39mget(\u001b[39m'\u001b[39m\u001b[39mleft\u001b[39m\u001b[39m'\u001b[39m), depth\u001b[39m+\u001b[39m\u001b[39m1\u001b[39m)\n",
      "\u001b[1;31mAttributeError\u001b[0m: 'DecisionTreeClassifier' object has no attribute 'get'"
     ]
    }
   ],
   "source": [
    "# 0.5 = 0.25 (tennis dataset) + 0.25 (titanic2 dataset) \n",
    "\n",
    "### NOTE: Flow to run your code (do this for all your datasets)\n",
    "\n",
    "# dataset 1 (create one cell for each dataset with the following content)\n",
    "\n",
    "tree = DecisionTreeClassifier()\n",
    "X_train, y_train,name = load_data(\"data/tennis.txt\",split=False)\n",
    "print(X_train)\n",
    "print(y_train)\n",
    "tree.fit(X_train, y_train,name)\n",
    "print(tree.fit(X_train, y_train))\n",
    "y_hat_train = tree.predict(X_train) \n",
    "acc_train = accuracy_score(y_train, y_hat_train)\n",
    "print(acc_train)\n",
    "tree.visualize_tree()"
   ]
  },
  {
   "cell_type": "code",
   "execution_count": 49,
   "metadata": {},
   "outputs": [
    {
     "name": "stdout",
     "output_type": "stream",
     "text": [
      "[[0 0 1]\n",
      " [3 0 1]\n",
      " [3 0 1]\n",
      " ...\n",
      " [1 0 0]\n",
      " [2 1 1]\n",
      " [1 0 1]]\n",
      "[0 0 0 ... 1 0 0]\n"
     ]
    },
    {
     "ename": "IndexError",
     "evalue": "index 0 is out of bounds for axis 0 with size 0",
     "output_type": "error",
     "traceback": [
      "\u001b[1;31m---------------------------------------------------------------------------\u001b[0m",
      "\u001b[1;31mIndexError\u001b[0m                                Traceback (most recent call last)",
      "\u001b[1;32mc:\\Users\\Admin\\Desktop\\University\\DataMining\\Lab03\\Test.ipynb Cell 14\u001b[0m in \u001b[0;36m<cell line: 5>\u001b[1;34m()\u001b[0m\n\u001b[0;32m      <a href='vscode-notebook-cell:/c%3A/Users/Admin/Desktop/University/DataMining/Lab03/Test.ipynb#X45sZmlsZQ%3D%3D?line=2'>3</a>\u001b[0m \u001b[39mprint\u001b[39m(X_train)\n\u001b[0;32m      <a href='vscode-notebook-cell:/c%3A/Users/Admin/Desktop/University/DataMining/Lab03/Test.ipynb#X45sZmlsZQ%3D%3D?line=3'>4</a>\u001b[0m \u001b[39mprint\u001b[39m(y_train)\n\u001b[1;32m----> <a href='vscode-notebook-cell:/c%3A/Users/Admin/Desktop/University/DataMining/Lab03/Test.ipynb#X45sZmlsZQ%3D%3D?line=4'>5</a>\u001b[0m \u001b[39mprint\u001b[39m(tree\u001b[39m.\u001b[39;49mfit(X_train, y_train))\n",
      "\u001b[1;32mc:\\Users\\Admin\\Desktop\\University\\DataMining\\Lab03\\Test.ipynb Cell 14\u001b[0m in \u001b[0;36mDecisionTreeClassifier.fit\u001b[1;34m(self, X, y, node, depth)\u001b[0m\n\u001b[0;32m     <a href='vscode-notebook-cell:/c%3A/Users/Admin/Desktop/University/DataMining/Lab03/Test.ipynb#X45sZmlsZQ%3D%3D?line=35'>36</a>\u001b[0m y_right \u001b[39m=\u001b[39m y[X[:, col_idx] \u001b[39m>\u001b[39m\u001b[39m=\u001b[39m cutoff]\n\u001b[0;32m     <a href='vscode-notebook-cell:/c%3A/Users/Admin/Desktop/University/DataMining/Lab03/Test.ipynb#X45sZmlsZQ%3D%3D?line=36'>37</a>\u001b[0m node \u001b[39m=\u001b[39m {\u001b[39m'\u001b[39m\u001b[39mindex_col\u001b[39m\u001b[39m'\u001b[39m:col_idx,\n\u001b[0;32m     <a href='vscode-notebook-cell:/c%3A/Users/Admin/Desktop/University/DataMining/Lab03/Test.ipynb#X45sZmlsZQ%3D%3D?line=37'>38</a>\u001b[0m             \u001b[39m'\u001b[39m\u001b[39mcutoff\u001b[39m\u001b[39m'\u001b[39m:cutoff,\n\u001b[0;32m     <a href='vscode-notebook-cell:/c%3A/Users/Admin/Desktop/University/DataMining/Lab03/Test.ipynb#X45sZmlsZQ%3D%3D?line=38'>39</a>\u001b[0m        \u001b[39m'\u001b[39m\u001b[39mval\u001b[39m\u001b[39m'\u001b[39m:np\u001b[39m.\u001b[39mmean(y)}\n\u001b[1;32m---> <a href='vscode-notebook-cell:/c%3A/Users/Admin/Desktop/University/DataMining/Lab03/Test.ipynb#X45sZmlsZQ%3D%3D?line=39'>40</a>\u001b[0m node[\u001b[39m'\u001b[39m\u001b[39mleft\u001b[39m\u001b[39m'\u001b[39m] \u001b[39m=\u001b[39m \u001b[39mself\u001b[39;49m\u001b[39m.\u001b[39;49mfit(X[X[:, col_idx] \u001b[39m<\u001b[39;49m cutoff], y_left, {}, depth\u001b[39m+\u001b[39;49m\u001b[39m1\u001b[39;49m)\n\u001b[0;32m     <a href='vscode-notebook-cell:/c%3A/Users/Admin/Desktop/University/DataMining/Lab03/Test.ipynb#X45sZmlsZQ%3D%3D?line=40'>41</a>\u001b[0m node[\u001b[39m'\u001b[39m\u001b[39mright\u001b[39m\u001b[39m'\u001b[39m] \u001b[39m=\u001b[39m \u001b[39mself\u001b[39m\u001b[39m.\u001b[39mfit(X[X[:, col_idx] \u001b[39m>\u001b[39m\u001b[39m=\u001b[39m cutoff], y_right, {}, depth\u001b[39m+\u001b[39m\u001b[39m1\u001b[39m)\n\u001b[0;32m     <a href='vscode-notebook-cell:/c%3A/Users/Admin/Desktop/University/DataMining/Lab03/Test.ipynb#X45sZmlsZQ%3D%3D?line=41'>42</a>\u001b[0m \u001b[39mself\u001b[39m\u001b[39m.\u001b[39mdepth \u001b[39m+\u001b[39m\u001b[39m=\u001b[39m \u001b[39m1\u001b[39m \n",
      "\u001b[1;32mc:\\Users\\Admin\\Desktop\\University\\DataMining\\Lab03\\Test.ipynb Cell 14\u001b[0m in \u001b[0;36mDecisionTreeClassifier.fit\u001b[1;34m(self, X, y, node, depth)\u001b[0m\n\u001b[0;32m     <a href='vscode-notebook-cell:/c%3A/Users/Admin/Desktop/University/DataMining/Lab03/Test.ipynb#X45sZmlsZQ%3D%3D?line=35'>36</a>\u001b[0m y_right \u001b[39m=\u001b[39m y[X[:, col_idx] \u001b[39m>\u001b[39m\u001b[39m=\u001b[39m cutoff]\n\u001b[0;32m     <a href='vscode-notebook-cell:/c%3A/Users/Admin/Desktop/University/DataMining/Lab03/Test.ipynb#X45sZmlsZQ%3D%3D?line=36'>37</a>\u001b[0m node \u001b[39m=\u001b[39m {\u001b[39m'\u001b[39m\u001b[39mindex_col\u001b[39m\u001b[39m'\u001b[39m:col_idx,\n\u001b[0;32m     <a href='vscode-notebook-cell:/c%3A/Users/Admin/Desktop/University/DataMining/Lab03/Test.ipynb#X45sZmlsZQ%3D%3D?line=37'>38</a>\u001b[0m             \u001b[39m'\u001b[39m\u001b[39mcutoff\u001b[39m\u001b[39m'\u001b[39m:cutoff,\n\u001b[0;32m     <a href='vscode-notebook-cell:/c%3A/Users/Admin/Desktop/University/DataMining/Lab03/Test.ipynb#X45sZmlsZQ%3D%3D?line=38'>39</a>\u001b[0m        \u001b[39m'\u001b[39m\u001b[39mval\u001b[39m\u001b[39m'\u001b[39m:np\u001b[39m.\u001b[39mmean(y)}\n\u001b[1;32m---> <a href='vscode-notebook-cell:/c%3A/Users/Admin/Desktop/University/DataMining/Lab03/Test.ipynb#X45sZmlsZQ%3D%3D?line=39'>40</a>\u001b[0m node[\u001b[39m'\u001b[39m\u001b[39mleft\u001b[39m\u001b[39m'\u001b[39m] \u001b[39m=\u001b[39m \u001b[39mself\u001b[39;49m\u001b[39m.\u001b[39;49mfit(X[X[:, col_idx] \u001b[39m<\u001b[39;49m cutoff], y_left, {}, depth\u001b[39m+\u001b[39;49m\u001b[39m1\u001b[39;49m)\n\u001b[0;32m     <a href='vscode-notebook-cell:/c%3A/Users/Admin/Desktop/University/DataMining/Lab03/Test.ipynb#X45sZmlsZQ%3D%3D?line=40'>41</a>\u001b[0m node[\u001b[39m'\u001b[39m\u001b[39mright\u001b[39m\u001b[39m'\u001b[39m] \u001b[39m=\u001b[39m \u001b[39mself\u001b[39m\u001b[39m.\u001b[39mfit(X[X[:, col_idx] \u001b[39m>\u001b[39m\u001b[39m=\u001b[39m cutoff], y_right, {}, depth\u001b[39m+\u001b[39m\u001b[39m1\u001b[39m)\n\u001b[0;32m     <a href='vscode-notebook-cell:/c%3A/Users/Admin/Desktop/University/DataMining/Lab03/Test.ipynb#X45sZmlsZQ%3D%3D?line=41'>42</a>\u001b[0m \u001b[39mself\u001b[39m\u001b[39m.\u001b[39mdepth \u001b[39m+\u001b[39m\u001b[39m=\u001b[39m \u001b[39m1\u001b[39m \n",
      "    \u001b[1;31m[... skipping similar frames: DecisionTreeClassifier.fit at line 40 (1 times)]\u001b[0m\n",
      "\u001b[1;32mc:\\Users\\Admin\\Desktop\\University\\DataMining\\Lab03\\Test.ipynb Cell 14\u001b[0m in \u001b[0;36mDecisionTreeClassifier.fit\u001b[1;34m(self, X, y, node, depth)\u001b[0m\n\u001b[0;32m     <a href='vscode-notebook-cell:/c%3A/Users/Admin/Desktop/University/DataMining/Lab03/Test.ipynb#X45sZmlsZQ%3D%3D?line=35'>36</a>\u001b[0m y_right \u001b[39m=\u001b[39m y[X[:, col_idx] \u001b[39m>\u001b[39m\u001b[39m=\u001b[39m cutoff]\n\u001b[0;32m     <a href='vscode-notebook-cell:/c%3A/Users/Admin/Desktop/University/DataMining/Lab03/Test.ipynb#X45sZmlsZQ%3D%3D?line=36'>37</a>\u001b[0m node \u001b[39m=\u001b[39m {\u001b[39m'\u001b[39m\u001b[39mindex_col\u001b[39m\u001b[39m'\u001b[39m:col_idx,\n\u001b[0;32m     <a href='vscode-notebook-cell:/c%3A/Users/Admin/Desktop/University/DataMining/Lab03/Test.ipynb#X45sZmlsZQ%3D%3D?line=37'>38</a>\u001b[0m             \u001b[39m'\u001b[39m\u001b[39mcutoff\u001b[39m\u001b[39m'\u001b[39m:cutoff,\n\u001b[0;32m     <a href='vscode-notebook-cell:/c%3A/Users/Admin/Desktop/University/DataMining/Lab03/Test.ipynb#X45sZmlsZQ%3D%3D?line=38'>39</a>\u001b[0m        \u001b[39m'\u001b[39m\u001b[39mval\u001b[39m\u001b[39m'\u001b[39m:np\u001b[39m.\u001b[39mmean(y)}\n\u001b[1;32m---> <a href='vscode-notebook-cell:/c%3A/Users/Admin/Desktop/University/DataMining/Lab03/Test.ipynb#X45sZmlsZQ%3D%3D?line=39'>40</a>\u001b[0m node[\u001b[39m'\u001b[39m\u001b[39mleft\u001b[39m\u001b[39m'\u001b[39m] \u001b[39m=\u001b[39m \u001b[39mself\u001b[39;49m\u001b[39m.\u001b[39;49mfit(X[X[:, col_idx] \u001b[39m<\u001b[39;49m cutoff], y_left, {}, depth\u001b[39m+\u001b[39;49m\u001b[39m1\u001b[39;49m)\n\u001b[0;32m     <a href='vscode-notebook-cell:/c%3A/Users/Admin/Desktop/University/DataMining/Lab03/Test.ipynb#X45sZmlsZQ%3D%3D?line=40'>41</a>\u001b[0m node[\u001b[39m'\u001b[39m\u001b[39mright\u001b[39m\u001b[39m'\u001b[39m] \u001b[39m=\u001b[39m \u001b[39mself\u001b[39m\u001b[39m.\u001b[39mfit(X[X[:, col_idx] \u001b[39m>\u001b[39m\u001b[39m=\u001b[39m cutoff], y_right, {}, depth\u001b[39m+\u001b[39m\u001b[39m1\u001b[39m)\n\u001b[0;32m     <a href='vscode-notebook-cell:/c%3A/Users/Admin/Desktop/University/DataMining/Lab03/Test.ipynb#X45sZmlsZQ%3D%3D?line=41'>42</a>\u001b[0m \u001b[39mself\u001b[39m\u001b[39m.\u001b[39mdepth \u001b[39m+\u001b[39m\u001b[39m=\u001b[39m \u001b[39m1\u001b[39m \n",
      "\u001b[1;32mc:\\Users\\Admin\\Desktop\\University\\DataMining\\Lab03\\Test.ipynb Cell 14\u001b[0m in \u001b[0;36mDecisionTreeClassifier.fit\u001b[1;34m(self, X, y, node, depth)\u001b[0m\n\u001b[0;32m     <a href='vscode-notebook-cell:/c%3A/Users/Admin/Desktop/University/DataMining/Lab03/Test.ipynb#X45sZmlsZQ%3D%3D?line=10'>11</a>\u001b[0m \u001b[39m'''Parameter:\u001b[39;00m\n\u001b[0;32m     <a href='vscode-notebook-cell:/c%3A/Users/Admin/Desktop/University/DataMining/Lab03/Test.ipynb#X45sZmlsZQ%3D%3D?line=11'>12</a>\u001b[0m \u001b[39m-----------------\u001b[39;00m\n\u001b[0;32m     <a href='vscode-notebook-cell:/c%3A/Users/Admin/Desktop/University/DataMining/Lab03/Test.ipynb#X45sZmlsZQ%3D%3D?line=12'>13</a>\u001b[0m \u001b[39mX: training data\u001b[39;00m\n\u001b[1;32m   (...)\u001b[0m\n\u001b[0;32m     <a href='vscode-notebook-cell:/c%3A/Users/Admin/Desktop/University/DataMining/Lab03/Test.ipynb#X45sZmlsZQ%3D%3D?line=23'>24</a>\u001b[0m \u001b[39mNote that: we divide each attribute into 2 part => each node will have 2 children: left, right.\u001b[39;00m\n\u001b[0;32m     <a href='vscode-notebook-cell:/c%3A/Users/Admin/Desktop/University/DataMining/Lab03/Test.ipynb#X45sZmlsZQ%3D%3D?line=24'>25</a>\u001b[0m \u001b[39m'''\u001b[39;00m\n\u001b[0;32m     <a href='vscode-notebook-cell:/c%3A/Users/Admin/Desktop/University/DataMining/Lab03/Test.ipynb#X45sZmlsZQ%3D%3D?line=26'>27</a>\u001b[0m \u001b[39m#Stop conditions\u001b[39;00m\n\u001b[0;32m     <a href='vscode-notebook-cell:/c%3A/Users/Admin/Desktop/University/DataMining/Lab03/Test.ipynb#X45sZmlsZQ%3D%3D?line=27'>28</a>\u001b[0m \n\u001b[0;32m     <a href='vscode-notebook-cell:/c%3A/Users/Admin/Desktop/University/DataMining/Lab03/Test.ipynb#X45sZmlsZQ%3D%3D?line=28'>29</a>\u001b[0m \u001b[39m#if all value of y are the same \u001b[39;00m\n\u001b[1;32m---> <a href='vscode-notebook-cell:/c%3A/Users/Admin/Desktop/University/DataMining/Lab03/Test.ipynb#X45sZmlsZQ%3D%3D?line=29'>30</a>\u001b[0m \u001b[39mif\u001b[39;00m np\u001b[39m.\u001b[39mall(y\u001b[39m==\u001b[39my[\u001b[39m0\u001b[39;49m]):\n\u001b[0;32m     <a href='vscode-notebook-cell:/c%3A/Users/Admin/Desktop/University/DataMining/Lab03/Test.ipynb#X45sZmlsZQ%3D%3D?line=30'>31</a>\u001b[0m     \u001b[39mreturn\u001b[39;00m {\u001b[39m'\u001b[39m\u001b[39mval\u001b[39m\u001b[39m'\u001b[39m:y[\u001b[39m0\u001b[39m]}\n\u001b[0;32m     <a href='vscode-notebook-cell:/c%3A/Users/Admin/Desktop/University/DataMining/Lab03/Test.ipynb#X45sZmlsZQ%3D%3D?line=32'>33</a>\u001b[0m \u001b[39melse\u001b[39;00m: \n",
      "\u001b[1;31mIndexError\u001b[0m: index 0 is out of bounds for axis 0 with size 0"
     ]
    }
   ],
   "source": [
    "tree = DecisionTreeClassifier()\n",
    "(X_train, y_train), (X_test, y_test),name = load_data(\"data/titanic2.txt\",split=True)\n",
    "print(X_train)\n",
    "print(y_train)\n",
    "print(tree.fit(X_train, y_train))\n",
    "# y_hat_train = tree.predict(X_train) \n",
    "# acc_train = accuracy_score(y_train, y_hat_train)\n",
    "# y_hat_test = tree.predict(X_test) \n",
    "# acc_test = accuracy_score(y_test, y_hat_test)\n",
    "# tree.visualize()"
   ]
  },
  {
   "cell_type": "code",
   "execution_count": 104,
   "metadata": {},
   "outputs": [],
   "source": [
    "def find_entropy(y):\n",
    "    entropy = 0\n",
    "    values = np.unique(y)\n",
    "    for value in values:\n",
    "        fraction = np.sum(y == value) / len(y)\n",
    "        entropy += -fraction * np.log2(fraction)\n",
    "    return entropy\n",
    "\n",
    "def find_entropy_attribute(X, y, attribute):\n",
    "    values = np.unique(X[:, attribute])\n",
    "    entropy2 = 0\n",
    "    for value in values:\n",
    "        entropy = find_entropy(y[X[:, attribute] == value])\n",
    "        fraction = np.sum(X[:, attribute] == value) / len(y)\n",
    "        entropy2 += -fraction * entropy\n",
    "    return abs(entropy2)\n",
    "\n",
    "def find_winner(X, y):\n",
    "    information_gains = []\n",
    "    for i in range(X.shape[1]):\n",
    "        information_gain = find_entropy(y) - find_entropy_attribute(X, y, i)\n",
    "        information_gains.append(information_gain)\n",
    "    max_gain_index = np.argmax(information_gains)\n",
    "    return max_gain_index\n",
    "\n",
    "\n",
    "def get_subtable(X, y, node, value):\n",
    "    X_subset = X[X[:, node] == value]\n",
    "    y_subset = y[X[:, node] == value]\n",
    "    return np.delete(X_subset, node, axis=1), y_subset\n",
    "\n",
    "def buildTree(X, y, feature_names, tree=None):\n",
    "    if tree is None:\n",
    "        tree = {}\n",
    "    if len(np.unique(y)) == 1:\n",
    "        return y[0]\n",
    "    if X.shape[1] == 0:\n",
    "        return np.argmax(np.bincount(y))\n",
    "    node = find_winner(X, y)\n",
    "    print(node)\n",
    "    node_name = feature_names[node]\n",
    "    print(feature_names[node])\n",
    "    tree[node_name] = {}\n",
    "    for value in np.unique(X[:, node]):\n",
    "        X_subset, y_subset = get_subtable(X, y, node, value)\n",
    "        if X_subset.shape[1] == 0:\n",
    "            tree[node_name][value] = np.argmax(np.bincount(y_subset))\n",
    "        else:\n",
    "            tree[node_name][value] = buildTree(X_subset, y_subset, feature_names)\n",
    "    return tree"
   ]
  },
  {
   "cell_type": "code",
   "execution_count": 105,
   "metadata": {},
   "outputs": [
    {
     "name": "stdout",
     "output_type": "stream",
     "text": [
      "['outlook', 'temperature', 'humidity', 'wind']\n",
      "0\n",
      "outlook\n",
      "2\n",
      "humidity\n",
      "1\n",
      "temperature\n",
      "{'outlook': {0: 1,\n",
      "             1: {'humidity': {0: 0, 1: 1}},\n",
      "             2: {'temperature': {0: 0, 1: 1}}}}\n"
     ]
    }
   ],
   "source": [
    "import pprint\n",
    "X_train, y_train, feature_names = load_data('data/tennis.txt', split=False)\n",
    "print(feature_names)\n",
    "tree=buildTree(X_train,y_train,feature_names)\n",
    "pprint.pprint(tree)\n",
    "# Convert the input data to numerical values\n",
    "\n",
    "\n",
    "\n"
   ]
  },
  {
   "cell_type": "code",
   "execution_count": 139,
   "metadata": {},
   "outputs": [
    {
     "name": "stderr",
     "output_type": "stream",
     "text": [
      "c:\\Users\\Admin\\AppData\\Local\\Programs\\Python\\Python310\\lib\\site-packages\\numpy\\lib\\arraysetops.py:272: VisibleDeprecationWarning: Creating an ndarray from ragged nested sequences (which is a list-or-tuple of lists-or-tuples-or ndarrays with different lengths or shapes) is deprecated. If you meant to do this, you must specify 'dtype=object' when creating the ndarray.\n",
      "  ar = np.asanyarray(ar)\n"
     ]
    },
    {
     "ename": "ValueError",
     "evalue": "could not broadcast input array from shape (3,0) into shape (3,)",
     "output_type": "error",
     "traceback": [
      "\u001b[1;31m---------------------------------------------------------------------------\u001b[0m",
      "\u001b[1;31mValueError\u001b[0m                                Traceback (most recent call last)",
      "\u001b[1;32mc:\\Users\\Admin\\Desktop\\University\\DataMining\\Lab03\\Test.ipynb Cell 17\u001b[0m in \u001b[0;36m<cell line: 61>\u001b[1;34m()\u001b[0m\n\u001b[0;32m     <a href='vscode-notebook-cell:/c%3A/Users/Admin/Desktop/University/DataMining/Lab03/Test.ipynb#X51sZmlsZQ%3D%3D?line=55'>56</a>\u001b[0m     \u001b[39mreturn\u001b[39;00m tree\n\u001b[0;32m     <a href='vscode-notebook-cell:/c%3A/Users/Admin/Desktop/University/DataMining/Lab03/Test.ipynb#X51sZmlsZQ%3D%3D?line=58'>59</a>\u001b[0m X,y,_\u001b[39m=\u001b[39m load_data(\u001b[39m'\u001b[39m\u001b[39mtennis.csv\u001b[39m\u001b[39m'\u001b[39m)\n\u001b[1;32m---> <a href='vscode-notebook-cell:/c%3A/Users/Admin/Desktop/University/DataMining/Lab03/Test.ipynb#X51sZmlsZQ%3D%3D?line=60'>61</a>\u001b[0m tree \u001b[39m=\u001b[39m buildTree(X, y,_)\n\u001b[0;32m     <a href='vscode-notebook-cell:/c%3A/Users/Admin/Desktop/University/DataMining/Lab03/Test.ipynb#X51sZmlsZQ%3D%3D?line=61'>62</a>\u001b[0m \u001b[39mprint\u001b[39m(tree)\n",
      "\u001b[1;32mc:\\Users\\Admin\\Desktop\\University\\DataMining\\Lab03\\Test.ipynb Cell 17\u001b[0m in \u001b[0;36mbuildTree\u001b[1;34m(X, y, feature_names, tree)\u001b[0m\n\u001b[0;32m     <a href='vscode-notebook-cell:/c%3A/Users/Admin/Desktop/University/DataMining/Lab03/Test.ipynb#X51sZmlsZQ%3D%3D?line=36'>37</a>\u001b[0m \u001b[39mif\u001b[39;00m tree \u001b[39mis\u001b[39;00m \u001b[39mNone\u001b[39;00m:\n\u001b[0;32m     <a href='vscode-notebook-cell:/c%3A/Users/Admin/Desktop/University/DataMining/Lab03/Test.ipynb#X51sZmlsZQ%3D%3D?line=37'>38</a>\u001b[0m     tree \u001b[39m=\u001b[39m {}\n\u001b[1;32m---> <a href='vscode-notebook-cell:/c%3A/Users/Admin/Desktop/University/DataMining/Lab03/Test.ipynb#X51sZmlsZQ%3D%3D?line=38'>39</a>\u001b[0m \u001b[39mif\u001b[39;00m \u001b[39mlen\u001b[39m(np\u001b[39m.\u001b[39;49munique(y)) \u001b[39m==\u001b[39m \u001b[39m1\u001b[39m:\n\u001b[0;32m     <a href='vscode-notebook-cell:/c%3A/Users/Admin/Desktop/University/DataMining/Lab03/Test.ipynb#X51sZmlsZQ%3D%3D?line=39'>40</a>\u001b[0m     \u001b[39mreturn\u001b[39;00m y[\u001b[39m0\u001b[39m]\n\u001b[0;32m     <a href='vscode-notebook-cell:/c%3A/Users/Admin/Desktop/University/DataMining/Lab03/Test.ipynb#X51sZmlsZQ%3D%3D?line=40'>41</a>\u001b[0m \u001b[39mif\u001b[39;00m X\u001b[39m.\u001b[39mshape[\u001b[39m1\u001b[39m] \u001b[39m==\u001b[39m \u001b[39m0\u001b[39m:\n",
      "File \u001b[1;32m<__array_function__ internals>:180\u001b[0m, in \u001b[0;36munique\u001b[1;34m(*args, **kwargs)\u001b[0m\n",
      "File \u001b[1;32mc:\\Users\\Admin\\AppData\\Local\\Programs\\Python\\Python310\\lib\\site-packages\\numpy\\lib\\arraysetops.py:272\u001b[0m, in \u001b[0;36munique\u001b[1;34m(ar, return_index, return_inverse, return_counts, axis, equal_nan)\u001b[0m\n\u001b[0;32m    138\u001b[0m \u001b[39m@array_function_dispatch\u001b[39m(_unique_dispatcher)\n\u001b[0;32m    139\u001b[0m \u001b[39mdef\u001b[39;00m \u001b[39munique\u001b[39m(ar, return_index\u001b[39m=\u001b[39m\u001b[39mFalse\u001b[39;00m, return_inverse\u001b[39m=\u001b[39m\u001b[39mFalse\u001b[39;00m,\n\u001b[0;32m    140\u001b[0m            return_counts\u001b[39m=\u001b[39m\u001b[39mFalse\u001b[39;00m, axis\u001b[39m=\u001b[39m\u001b[39mNone\u001b[39;00m, \u001b[39m*\u001b[39m, equal_nan\u001b[39m=\u001b[39m\u001b[39mTrue\u001b[39;00m):\n\u001b[0;32m    141\u001b[0m     \u001b[39m\"\"\"\u001b[39;00m\n\u001b[0;32m    142\u001b[0m \u001b[39m    Find the unique elements of an array.\u001b[39;00m\n\u001b[0;32m    143\u001b[0m \n\u001b[1;32m   (...)\u001b[0m\n\u001b[0;32m    270\u001b[0m \n\u001b[0;32m    271\u001b[0m \u001b[39m    \"\"\"\u001b[39;00m\n\u001b[1;32m--> 272\u001b[0m     ar \u001b[39m=\u001b[39m np\u001b[39m.\u001b[39;49masanyarray(ar)\n\u001b[0;32m    273\u001b[0m     \u001b[39mif\u001b[39;00m axis \u001b[39mis\u001b[39;00m \u001b[39mNone\u001b[39;00m:\n\u001b[0;32m    274\u001b[0m         ret \u001b[39m=\u001b[39m _unique1d(ar, return_index, return_inverse, return_counts, \n\u001b[0;32m    275\u001b[0m                         equal_nan\u001b[39m=\u001b[39mequal_nan)\n",
      "\u001b[1;31mValueError\u001b[0m: could not broadcast input array from shape (3,0) into shape (3,)"
     ]
    }
   ],
   "source": [
    "import numpy as np\n",
    "import pprint\n",
    "def find_entropy(y):\n",
    "    entropy = 0\n",
    "    values = np.unique(y)\n",
    "    for value in values:\n",
    "        fraction = np.sum(y == value) / len(y)\n",
    "        entropy += -fraction * np.log2(fraction)\n",
    "    return entropy\n",
    "\n",
    "def find_entropy_attribute(X, y, attribute):\n",
    "    values = np.unique(X[:, attribute])\n",
    "    entropy2 = 0\n",
    "    for value in values:\n",
    "        entropy = find_entropy(y[X[:, attribute] == value])\n",
    "        fraction = np.sum(X[:, attribute] == value) / len(y)\n",
    "        entropy2 += -fraction * entropy\n",
    "    return abs(entropy2)\n",
    "\n",
    "def find_winner(X, y):\n",
    "    information_gains = []\n",
    "    for i in range(X.shape[1]):\n",
    "        information_gain = find_entropy(y) - find_entropy_attribute(X, y, i)\n",
    "        information_gains.append(information_gain)\n",
    "    max_gain_index = np.argmax(information_gains)\n",
    "    return max_gain_index\n",
    "\n",
    "\n",
    "def get_subtable(X, y, node, value):\n",
    "    X_subset = X[X[:, node] == value]\n",
    "    y_subset = y[X[:, node] == value]\n",
    "    return np.delete(X_subset, node, axis=1), y_subset\n",
    "\n",
    "\n",
    "\n",
    "def buildTree(df, tree=None):\n",
    "    if tree is None:\n",
    "        tree = {}\n",
    "    if len(np.unique(y)) == 1:\n",
    "        return y[0]\n",
    "    if X.shape[1] == 0:\n",
    "        return np.argmax(np.bincount(y))\n",
    "    node = find_winner(X, y)\n",
    "    node_name = feature_names[node]\n",
    "    tree[node_name] = {}\n",
    "    values = np.unique(X[:, node])\n",
    "    for value in values:\n",
    "        X_subset, y_subset = get_subtable(X, y, node, value)\n",
    "        if len(np.unique(y_subset)) == 1:\n",
    "            tree[node_name][value] = y_subset[0]\n",
    "        else:\n",
    "            subtree = buildTree(X_subset, y_subset, feature_names)\n",
    "            tree[node_name][value] = subtree\n",
    "    if node_name not in ['Outlook', 'Wind', 'Humidity', 'Temperature']:\n",
    "        return tree[node_name][values[0]]\n",
    "    return tree\n",
    "\n",
    "\n",
    "X,y,_= load_data('tennis.csv')\n",
    "\n",
    "tree = buildTree(X, y,_)\n",
    "print(tree)\n"
   ]
  },
  {
   "cell_type": "code",
   "execution_count": 149,
   "metadata": {},
   "outputs": [],
   "source": [
    "import numpy as np\n",
    "import pandas as pd\n",
    "\n",
    "class DecisionTreee:\n",
    "    def __init__(self):\n",
    "        self.tree = None\n",
    "        \n",
    "    def find_entropy(self, df):\n",
    "        Class = df.keys()[-1]\n",
    "        entropy = 0\n",
    "        values = df[Class].unique()\n",
    "        for value in values:\n",
    "            fraction = df[Class].value_counts()[value]/len(df[Class])\n",
    "            entropy += -fraction*np.log2(fraction)\n",
    "        return entropy\n",
    "    \n",
    "    def find_entropy_attribute(self, df, attribute):\n",
    "        Class = df.keys()[-1]\n",
    "        target_variables = df[Class].unique()\n",
    "        variables = df[attribute].unique()\n",
    "        entropy2 = 0\n",
    "        for variable in variables:\n",
    "            entropy = 0\n",
    "            for target_variable in target_variables:\n",
    "                num = len(df[attribute][df[attribute]==variable][df[Class] ==target_variable])\n",
    "                den = len(df[attribute][df[attribute]==variable])\n",
    "                fraction = num/(den+np.finfo(float).eps)\n",
    "                entropy += -fraction*np.log2(fraction+np.finfo(float).eps)\n",
    "            fraction2 = den/len(df)\n",
    "            entropy2 += -fraction2*entropy\n",
    "        return abs(entropy2)\n",
    "    \n",
    "    def find_winner(self, df):\n",
    "        IG = []\n",
    "        for key in df.keys()[:-1]:\n",
    "            IG.append(self.find_entropy(df)-self.find_entropy_attribute(df,key))\n",
    "        return df.keys()[:-1][np.argmax(IG)] \n",
    "    \n",
    "    def get_subtable(self, df, node, value):\n",
    "        return df[df[node] == value].reset_index(drop=True)\n",
    "    \n",
    "    def buildTree(self,df, tree=None): \n",
    "        Class = df.keys()[-1]\n",
    "        node = self.find_winner(df)\n",
    "        attValue = np.unique(df[node])\n",
    "        print(attValue)\n",
    "        if tree is None:                    \n",
    "            tree={}\n",
    "            tree[node] = {}\n",
    "        for value in attValue:\n",
    "            subtable = self.get_subtable(df,node,value)\n",
    "            clValue,counts = np.unique(subtable[df.keys()[-1]],return_counts=True)                        \n",
    "            if len(counts)==1:\n",
    "                tree[node][value] = clValue[0]                                                    \n",
    "            else:        \n",
    "                tree[node][value] = self.buildTree(subtable)               \n",
    "        return tree\n",
    "    def fit(self,df):\n",
    "        self.tree=buildTree(df,self.tree)\n",
    "    \n",
    "    # def predict(self, X):\n",
    "    #     y_pred = []\n",
    "    #     for row in X:\n",
    "    #         y_pred.append(self._predict_row(row, self.tree))\n",
    "    #     return y_pred\n",
    "    \n",
    "    # def _predict_row(self, row, tree):\n",
    "    #     for node, subtree in tree.items():\n",
    "    #         value = row[node]\n",
    "    #         if value not in subtree:\n",
    "    #             return None\n",
    "    #         if isinstance(subtree[value], dict):\n",
    "    #             return self._predict_row(row, subtree[value])\n",
    "    #         else:\n",
    "    #             return subtree[value]\n",
    "                \n",
    "    def visualize(self):\n",
    "        pprint.pprint(self.tree)\n",
    "        \n",
    "\n"
   ]
  },
  {
   "cell_type": "code",
   "execution_count": 150,
   "metadata": {},
   "outputs": [
    {
     "name": "stdout",
     "output_type": "stream",
     "text": [
      "['Overcast' 'Rain' 'Sunny']\n",
      "['Strong' 'Weak']\n",
      "['High' 'Normal']\n",
      "{'Outlook': {'Overcast': 'Yes', 'Rain': None, 'Sunny': None}}\n"
     ]
    }
   ],
   "source": [
    "tree = DecisionTreee()\n",
    "X_train, y_train,temp= load_data(\"data/tennis.txt\",split=False)\n",
    "# train_data = np.column_stack((X_train, y_train.reshape(-1,1)))\n",
    "# df = pd.DataFrame(train_data, columns=feature_names + [\"class\"])\n",
    "df = pd.read_csv('tennis.csv')\n",
    "tree.fit(df)\n",
    "# y_hat_train = tree.predict(X_train) \n",
    "# acc_train = accuracy_score(y_train, y_hat_train)\n",
    "tree.visualize()"
   ]
  },
  {
   "cell_type": "code",
   "execution_count": 133,
   "metadata": {},
   "outputs": [
    {
     "name": "stdout",
     "output_type": "stream",
     "text": [
      "-4.754887502163468\n"
     ]
    }
   ],
   "source": []
  },
  {
   "cell_type": "markdown",
   "metadata": {
    "id": "UkJf1OrO_ijl"
   },
   "source": [
    "### Answer the following question (0.5 points)\n",
    "\n",
    "**Question 1:** Your comments on the accuracy scores between train and test sets on ```titanic2``` dataset? Elaborate, explain and propose a solution\n",
    "\n",
    "---\n",
    "\n",
    "*Your answer here*"
   ]
  },
  {
   "cell_type": "markdown",
   "metadata": {
    "id": "1gXUwu_vDmep"
   },
   "source": [
    "## Exercise 2: Clustering (4 points + 1 bonus point)\n",
    "\n",
    "### Requirements\n",
    "\n",
    "In this exercise, you will need to implement K-means clustering algorithm on synthetic data."
   ]
  },
  {
   "cell_type": "code",
   "execution_count": 3,
   "metadata": {
    "id": "U9MTEeMP_xbj"
   },
   "outputs": [],
   "source": [
    "import numpy as np\n",
    "from matplotlib import pyplot as plt\n",
    "from scipy.spatial.distance import cdist"
   ]
  },
  {
   "cell_type": "markdown",
   "metadata": {
    "id": "6w5S-iHLJFRx"
   },
   "source": [
    "**Dataset:**\n",
    "\n",
    "- The synthetic dataset contains 1500 data points that belong to 3 clusters. The clusters' centers are respectively $(2,2), (7,3), (3,6)$. \n",
    "\n",
    "- Data points of each cluster are generated randomly from the bivariate normal distribution"
   ]
  },
  {
   "cell_type": "code",
   "execution_count": 4,
   "metadata": {
    "id": "OW6Xu17kMIky"
   },
   "outputs": [],
   "source": [
    "seed = 520 # for reproducibility"
   ]
  },
  {
   "cell_type": "code",
   "execution_count": 5,
   "metadata": {
    "id": "8MEYeXCQH1Dr"
   },
   "outputs": [],
   "source": [
    "### Description: generate synthetic data\n",
    "\n",
    "def generate_data(means, cov, N, K):\n",
    "    np.random.seed(seed) \n",
    "    X0 = np.random.multivariate_normal(means[0], cov, N)\n",
    "    X1 = np.random.multivariate_normal(means[1], cov, N)\n",
    "    X2 = np.random.multivariate_normal(means[2], cov, N)\n",
    "\n",
    "    X = np.concatenate((X0, X1, X2), axis = 0)\n",
    "    original_label = np.asarray([0]*N + [1]*N + [2]*N).T\n",
    "\n",
    "    return X, original_label\n",
    "\n",
    "\n",
    "# visualize data \n",
    "def kmeans_display(X, label):\n",
    "    K = np.amax(label) + 1\n",
    "    X0 = X[label == 0, :]\n",
    "    X1 = X[label == 1, :]\n",
    "    X2 = X[label == 2, :]\n",
    "    \n",
    "    plt.plot(X0[:, 0], X0[:, 1], 'b^', markersize = 4, alpha = .8)\n",
    "    plt.plot(X1[:, 0], X1[:, 1], 'go', markersize = 4, alpha = .8)\n",
    "    plt.plot(X2[:, 0], X2[:, 1], 'rs', markersize = 4, alpha = .8)\n",
    "\n",
    "    plt.axis('equal')\n",
    "    plt.plot()\n",
    "    plt.show()"
   ]
  },
  {
   "cell_type": "code",
   "execution_count": 6,
   "metadata": {
    "colab": {
     "base_uri": "https://localhost:8080/",
     "height": 265
    },
    "id": "V3sqpASYLVd6",
    "outputId": "180ecf12-50ae-42d2-b9c0-0967b24e2222"
   },
   "outputs": [
    {
     "data": {
      "image/png": "[encoded data removed]",
      "text/plain": [
       "<Figure size 432x288 with 1 Axes>"
      ]
     },
     "metadata": {
      "needs_background": "light"
     },
     "output_type": "display_data"
    }
   ],
   "source": [
    "N, K = 500, 3\n",
    "means = [[2, 2], [7, 3], [3, 6]]\n",
    "cov = [[1, 0], [0, 1]]\n",
    "\n",
    "X, original_label = generate_data(means, cov, N, K)\n",
    "kmeans_display(X, original_label)"
   ]
  },
  {
   "cell_type": "markdown",
   "metadata": {
    "id": "6wDWbfKgLhcp"
   },
   "source": [
    "You will need to fill in the ```YOUR CODE HERE``` to finish K-means clustering algorithm"
   ]
  },
  {
   "cell_type": "markdown",
   "metadata": {
    "id": "TGyHXCaeLy64"
   },
   "source": [
    "### Implementation (4 points)"
   ]
  },
  {
   "cell_type": "code",
   "execution_count": 22,
   "metadata": {
    "id": "-pOgiA5_ME9w"
   },
   "outputs": [],
   "source": [
    "# 0.5\n",
    "def kmeans_init_centers(X, k):\n",
    "    np.random.seed(seed)\n",
    "\n",
    "    # randomly pick k rows of X as initial centers using np.random.choice function\n",
    "    \n",
    "    # YOUR CODE HERE\n",
    "    raise NotImplementedError()"
   ]
  },
  {
   "cell_type": "code",
   "execution_count": null,
   "metadata": {
    "id": "LEtg0cx6MVJY"
   },
   "outputs": [],
   "source": [
    "centers = kmeans_init_centers(X, K)\n",
    "assert centers.shape == (K, 2)"
   ]
  },
  {
   "cell_type": "code",
   "execution_count": null,
   "metadata": {
    "id": "_uE76wVmMVk5"
   },
   "outputs": [],
   "source": [
    "# 1\n",
    "def kmeans_assign_labels(X, centers):\n",
    "    # calculate pairwise distances between data and centers using cdist\n",
    "    # return index of the closest center using np.argmin\n",
    "\n",
    "    # YOUR CODE HERE\n",
    "    raise NotImplementedError()"
   ]
  },
  {
   "cell_type": "code",
   "execution_count": null,
   "metadata": {
    "id": "dejjjGM8MZMJ"
   },
   "outputs": [],
   "source": [
    "assigned_labels = kmeans_assign_labels(X, centers)\n",
    "assert assigned_labels.shape == (N*3, )"
   ]
  },
  {
   "cell_type": "code",
   "execution_count": null,
   "metadata": {
    "id": "NI48jo7IMa20"
   },
   "outputs": [],
   "source": [
    "# 1\n",
    "def kmeans_update_centers(X, labels, K):\n",
    "    centers = np.zeros((K, X.shape[1]))\n",
    "    for k in range(K):\n",
    "        # collect all points assigned to the k-th cluster \n",
    "        # take average\n",
    "\n",
    "        # YOUR CODE HERE\n",
    "        raise NotImplementedError()\n",
    "        \n",
    "    return centers"
   ]
  },
  {
   "cell_type": "code",
   "execution_count": null,
   "metadata": {
    "id": "sB4HwTURMdic"
   },
   "outputs": [],
   "source": [
    "# 0.5\n",
    "def has_converged(centers, new_centers):\n",
    "    # return True if two sets of centers are the same\n",
    "\n",
    "    # YOUR CODE HERE\n",
    "    raise NotImplementedError()"
   ]
  },
  {
   "cell_type": "code",
   "execution_count": null,
   "metadata": {
    "id": "5bcLqYi_MfxM"
   },
   "outputs": [],
   "source": [
    "# 1\n",
    "def kmeans(X, K):\n",
    "    # save the center coordinates of each iteration\n",
    "    centers = [kmeans_init_centers(X, K)]  \n",
    "    # save the labels of each iteration\n",
    "    labels = []\n",
    "    it = 0 \n",
    "    while True:\n",
    "        # at each iteration:\n",
    "        # 1. assign label for each points and append to labels\n",
    "        # 2. update the centers\n",
    "        # 3. check the convergence condition\n",
    "        #    and append NEW center coordinates to centers\n",
    "        # 4. update iteration \n",
    "\n",
    "        # YOUR CODE HERE\n",
    "        raise NotImplementedError()\n",
    "    \n",
    "    return (centers, labels, it)"
   ]
  },
  {
   "cell_type": "code",
   "execution_count": null,
   "metadata": {
    "id": "mAPz0ii1Mh94"
   },
   "outputs": [],
   "source": [
    "(centers, labels, it) = kmeans(X, K)\n",
    "print('Centers found by k-means algorithm:')\n",
    "print(centers[-1])\n",
    "print('='*60)\n",
    "\n",
    "kmeans_display(X, labels[-1])"
   ]
  },
  {
   "cell_type": "markdown",
   "metadata": {
    "id": "o1_S2KR3L72g"
   },
   "source": [
    "### Answer the following questions (bonus 1 point)\n",
    "\n",
    "**Question 2:** Your comments on the result of K-means algorithm on the synthetic dataset? (0.25)\n",
    "\n",
    "---\n",
    "\n",
    "*Your answer here*"
   ]
  },
  {
   "cell_type": "markdown",
   "metadata": {
    "id": "T7lsqqBKMBRE"
   },
   "source": [
    "**Question 3:** \n",
    "\n",
    "- Drawbacks of K-means clustering algorithm (0.5)\n",
    "\n",
    "- Propose solutions to the drawbacks you stated above (0.25)\n",
    "\n",
    "---\n",
    "\n",
    "*Your answer here*"
   ]
  }
 ],
 "metadata": {
  "colab": {
   "provenance": []
  },
  "kernelspec": {
   "display_name": "Python 3 (ipykernel)",
   "language": "python",
   "name": "python3"
  },
  "language_info": {
   "codemirror_mode": {
    "name": "ipython",
    "version": 3
   },
   "file_extension": ".py",
   "mimetype": "text/x-python",
   "name": "python",
   "nbconvert_exporter": "python",
   "pygments_lexer": "ipython3",
   "version": "3.10.8"
  }
 },
 "nbformat": 4,
 "nbformat_minor": 1
}
